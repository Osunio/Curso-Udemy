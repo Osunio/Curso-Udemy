{
 "cells": [
  {
   "cell_type": "code",
   "execution_count": 1,
   "metadata": {},
   "outputs": [],
   "source": [
    "# VIDEO 15.\n",
    "# Vamos a hacer \"Indexing\" (seleccionar una parte de un texto) y \"Slicing\" (extraer una parte de un texto)"
   ]
  },
  {
   "cell_type": "code",
   "execution_count": 2,
   "metadata": {},
   "outputs": [],
   "source": [
    "mystring = \"Hello World\""
   ]
  },
  {
   "cell_type": "code",
   "execution_count": 13,
   "metadata": {},
   "outputs": [
    {
     "name": "stdout",
     "output_type": "stream",
     "text": [
      "Hello World\n"
     ]
    },
    {
     "data": {
      "text/plain": [
       "11"
      ]
     },
     "execution_count": 13,
     "metadata": {},
     "output_type": "execute_result"
    }
   ],
   "source": [
    "print(mystring)\n",
    "len(mystring)"
   ]
  },
  {
   "cell_type": "code",
   "execution_count": 6,
   "metadata": {},
   "outputs": [
    {
     "data": {
      "text/plain": [
       "'o'"
      ]
     },
     "execution_count": 6,
     "metadata": {},
     "output_type": "execute_result"
    }
   ],
   "source": [
    "mystring[4] # Es la o porque los índices comienzan en 0."
   ]
  },
  {
   "cell_type": "code",
   "execution_count": 7,
   "metadata": {},
   "outputs": [
    {
     "data": {
      "text/plain": [
       "'o'"
      ]
     },
     "execution_count": 7,
     "metadata": {},
     "output_type": "execute_result"
    }
   ],
   "source": [
    "#Hay dos formas de indexar. La de antes y la reversa (contando el último caracter como -1)\n",
    "mystring[-7]"
   ]
  },
  {
   "cell_type": "code",
   "execution_count": 20,
   "metadata": {},
   "outputs": [
    {
     "name": "stdout",
     "output_type": "stream",
     "text": [
      "o World\n",
      "Hello Wor\n"
     ]
    }
   ],
   "source": [
    "#Slicing\n",
    "print(mystring[4:])\n",
    "print(mystring[:9])"
   ]
  },
  {
   "cell_type": "code",
   "execution_count": 21,
   "metadata": {},
   "outputs": [
    {
     "data": {
      "text/plain": [
       "'lo Wor'"
      ]
     },
     "execution_count": 21,
     "metadata": {},
     "output_type": "execute_result"
    }
   ],
   "source": [
    "mystring[3:9]"
   ]
  },
  {
   "cell_type": "code",
   "execution_count": 23,
   "metadata": {},
   "outputs": [
    {
     "data": {
      "text/plain": [
       "'llo '"
      ]
     },
     "execution_count": 23,
     "metadata": {},
     "output_type": "execute_result"
    }
   ],
   "source": [
    "mystring[2:6] #La primera letra es la l porque empieza en 0, pero no acaba en la 6, que es la W, sino en la anterior, que es el espacio (un poco raro)."
   ]
  },
  {
   "cell_type": "code",
   "execution_count": 27,
   "metadata": {},
   "outputs": [
    {
     "name": "stdout",
     "output_type": "stream",
     "text": [
      "HloWrd\n",
      "loW\n",
      "dlroW olleH\n"
     ]
    }
   ],
   "source": [
    "#La función para extraer tiene un segundo parámetro que son los saltos, es decir, seleccionar las letras saltando:\n",
    "print(mystring[::2]) #Le estoy diciendo que me devuelva todo saltando 1 letra.\n",
    "print(mystring[2:8:2]) #Le estoy diciendo que me devuelva los caracteres 2 a 7 saltando 1 letra.\n",
    "print(mystring[::-1]) #Me devuelve todo invertido."
   ]
  },
  {
   "cell_type": "code",
   "execution_count": 33,
   "metadata": {},
   "outputs": [],
   "source": [
    "# VIDEO 16. Características de los textos.\n",
    "# Inmutables."
   ]
  },
  {
   "cell_type": "code",
   "execution_count": 36,
   "metadata": {},
   "outputs": [
    {
     "data": {
      "text/plain": [
       "'Pam'"
      ]
     },
     "execution_count": 36,
     "metadata": {},
     "output_type": "execute_result"
    }
   ],
   "source": [
    "name = \"Sam\"\n",
    "# name [0] = \"P\" # Si quiero cambiar Sam por Pam no puedo. Debo cambiarlo completo o concatenar.\n",
    "\"P\" + name[1:] # Hemos concatenado con el símbolo +."
   ]
  },
  {
   "cell_type": "code",
   "execution_count": 39,
   "metadata": {},
   "outputs": [
    {
     "name": "stdout",
     "output_type": "stream",
     "text": [
      "Teno fueño\n",
      "Teno fueñoz\n",
      "Teno fueñozzzzzzzzzz\n"
     ]
    }
   ],
   "source": [
    "# También se pueden multiplicar las concatenaciones:\n",
    "print(\"Teno fueño\")\n",
    "print(\"Teno fueño\" + (\"z\"))\n",
    "print(\"Teno fueño\" + (\"z\"*10))"
   ]
  },
  {
   "cell_type": "code",
   "execution_count": 44,
   "metadata": {},
   "outputs": [
    {
     "name": "stdout",
     "output_type": "stream",
     "text": [
      "HELLO WORLD\n",
      "['Hello', 'World']\n",
      "['He', '', 'o Wor', 'd']\n"
     ]
    }
   ],
   "source": [
    "# Hay varias funciones de texto que puedo hacer poniendo el nombre de la variable, un punto y dándole a TAB.\n",
    "# mystring. + TAB =\n",
    "print(mystring.upper())\n",
    "print(mystring.split())\n",
    "print(mystring.split(\"l\")) # Elimino todas las l."
   ]
  },
  {
   "cell_type": "code",
   "execution_count": 48,
   "metadata": {},
   "outputs": [
    {
     "name": "stdout",
     "output_type": "stream",
     "text": [
      "Hola, qué tal estás?\n",
      "Lunes, Miércoles, Viernes, Jueves, Martes\n",
      "Lunes, Martes, Miércoles, Jueves, Viernes\n",
      "Lunes, Miércoles, Miércoles, Jueves, Miércoles\n"
     ]
    }
   ],
   "source": [
    "# VIDEO 18: Hacer virguerías.\n",
    "print(\"Hola, qué tal {}?\".format(\"estás\"))\n",
    "print(\"Lunes, {}, {}, Jueves, {}\".format(\"Miércoles\", \"Viernes\", \"Martes\")) #No lo quiero en este orden.\n",
    "print(\"Lunes, {2}, {0}, Jueves, {1}\".format(\"Miércoles\", \"Viernes\", \"Martes\")) #Puedo indexar los corchetes.\n",
    "print(\"Lunes, {0}, {0}, Jueves, {0}\".format(\"Miércoles\", \"Viernes\", \"Martes\")) #Puedo repetir."
   ]
  },
  {
   "cell_type": "code",
   "execution_count": 51,
   "metadata": {},
   "outputs": [
    {
     "name": "stdout",
     "output_type": "stream",
     "text": [
      "Quiero que me compres un Perro Verde Pequeño\n",
      "Quiero que me compres un Gato Amarillo Grande\n"
     ]
    }
   ],
   "source": [
    "#Puedo poner sobrenombres a las palabras en lugar de índices.\n",
    "print(\"Quiero que me compres un {p} {v} {s}\".format(p=\"Perro\", g=\"Gato\", v=\"Verde\", a=\"Amarillo\", b=\"Grande\", s=\"Pequeño\"))\n",
    "print(\"Quiero que me compres un {g} {a} {b}\".format(p=\"Perro\", g=\"Gato\", v=\"Verde\", a=\"Amarillo\", b=\"Grande\", s=\"Pequeño\"))"
   ]
  },
  {
   "cell_type": "code",
   "execution_count": 63,
   "metadata": {},
   "outputs": [
    {
     "name": "stdout",
     "output_type": "stream",
     "text": [
      "El resultado es 0.1287001287001287\n",
      "El resultado es 0.1287001287001287\n",
      "El resultado es 0.129\n"
     ]
    }
   ],
   "source": [
    "# Más virguería: formatear números.\n",
    "decimal = 100/777\n",
    "print(\"El resultado es {}\".format(decimal))\n",
    "print(\"El resultado es {d}\".format(d=decimal))\n",
    "print(\"El resultado es {d:0.3f}\".format(d=decimal)) #Solo 3 decimales. El 1 es para mover {d} a la derecha (prueba poner un número grande)."
   ]
  },
  {
   "cell_type": "code",
   "execution_count": 84,
   "metadata": {},
   "outputs": [],
   "source": [
    "# VIDEO 20. LISTS.\n",
    "lista = [1,2,3]\n",
    "lista2 = [\"Hola\",2.5,3]"
   ]
  },
  {
   "cell_type": "code",
   "execution_count": 74,
   "metadata": {},
   "outputs": [
    {
     "data": {
      "text/plain": [
       "([1, 2, 3], ['Hola', 2.5, 3])"
      ]
     },
     "execution_count": 74,
     "metadata": {},
     "output_type": "execute_result"
    }
   ],
   "source": [
    "lista, lista2"
   ]
  },
  {
   "cell_type": "code",
   "execution_count": 70,
   "metadata": {},
   "outputs": [
    {
     "data": {
      "text/plain": [
       "[1, 2, 3]"
      ]
     },
     "execution_count": 70,
     "metadata": {},
     "output_type": "execute_result"
    }
   ],
   "source": [
    "lista"
   ]
  },
  {
   "cell_type": "code",
   "execution_count": 80,
   "metadata": {},
   "outputs": [
    {
     "data": {
      "text/plain": [
       "2.5"
      ]
     },
     "execution_count": 80,
     "metadata": {},
     "output_type": "execute_result"
    }
   ],
   "source": [
    "lista2[1] #Indexing."
   ]
  },
  {
   "cell_type": "code",
   "execution_count": 81,
   "metadata": {},
   "outputs": [
    {
     "data": {
      "text/plain": [
       "[2.5, 3]"
      ]
     },
     "execution_count": 81,
     "metadata": {},
     "output_type": "execute_result"
    }
   ],
   "source": [
    "lista2[1:] #Slicing."
   ]
  },
  {
   "cell_type": "code",
   "execution_count": 99,
   "metadata": {},
   "outputs": [
    {
     "data": {
      "text/plain": [
       "['Hola', 2.5, 3, 'Bola', 5, 12.5]"
      ]
     },
     "execution_count": 99,
     "metadata": {},
     "output_type": "execute_result"
    }
   ],
   "source": [
    "#Al contrario de los textos, las listas sí se pueden cambiar.\n",
    "lista3 = lista2 + [\"Bola\", 5, 100/8]\n",
    "lista3"
   ]
  },
  {
   "cell_type": "code",
   "execution_count": 100,
   "metadata": {},
   "outputs": [
    {
     "data": {
      "text/plain": [
       "['Hola', 2.5, 3, 'Pela Bola', 5, 12.5]"
      ]
     },
     "execution_count": 100,
     "metadata": {},
     "output_type": "execute_result"
    }
   ],
   "source": [
    "lista3[3] = \"Pela Bola\"\n",
    "lista3"
   ]
  },
  {
   "cell_type": "code",
   "execution_count": 101,
   "metadata": {},
   "outputs": [
    {
     "data": {
      "text/plain": [
       "['Hola', 2.5, 'Pela Bola', 5, 12.5]"
      ]
     },
     "execution_count": 101,
     "metadata": {},
     "output_type": "execute_result"
    }
   ],
   "source": [
    "lista3.pop(2) #Elimina el tercer elemento. Solo sirve para un elemento a la vez.\n",
    "lista3"
   ]
  },
  {
   "cell_type": "code",
   "execution_count": 112,
   "metadata": {},
   "outputs": [
    {
     "data": {
      "text/plain": [
       "[0.2, 0.7142857142857143, 1, 10, 13, 66, 100]"
      ]
     },
     "execution_count": 112,
     "metadata": {},
     "output_type": "execute_result"
    }
   ],
   "source": [
    "lista4 = [1,10,13,66,5/7,100,0.2]\n",
    "lista4.sort()\n",
    "lista4 #Ordené de menor a mayor."
   ]
  },
  {
   "cell_type": "code",
   "execution_count": 113,
   "metadata": {},
   "outputs": [
    {
     "data": {
      "text/plain": [
       "[100, 66, 13, 10, 1, 0.7142857142857143, 0.2]"
      ]
     },
     "execution_count": 113,
     "metadata": {},
     "output_type": "execute_result"
    }
   ],
   "source": [
    "lista4.reverse() #Ordenamos de mayor a menor.\n",
    "lista4"
   ]
  }
 ],
 "metadata": {
  "kernelspec": {
   "display_name": "Python 3",
   "language": "python",
   "name": "python3"
  },
  "language_info": {
   "codemirror_mode": {
    "name": "ipython",
    "version": 3
   },
   "file_extension": ".py",
   "mimetype": "text/x-python",
   "name": "python",
   "nbconvert_exporter": "python",
   "pygments_lexer": "ipython3",
   "version": "3.6.5"
  }
 },
 "nbformat": 4,
 "nbformat_minor": 2
}
